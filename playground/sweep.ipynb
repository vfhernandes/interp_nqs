{
 "cells": [
  {
   "cell_type": "code",
   "execution_count": null,
   "metadata": {},
   "outputs": [],
   "source": [
    "import netket as nk\n",
    "import jax.numpy as jnp\n",
    "import os\n",
    "os.environ[\"JAX_PLATFORM_NAME\"] = \"cpu\"\n",
    "import numpy as np\n",
    "from scipy.sparse.linalg import eigsh\n",
    "import jax\n",
    "from netket.operator.spin import sigmax,sigmaz\n",
    "import jax.flatten_util\n",
    "import pickle\n",
    "from typing import Union, Any\n",
    "import numpy as np\n",
    "import jax\n",
    "from jax import numpy as jnp\n",
    "from flax import linen as nn\n",
    "from jax.nn.initializers import normal\n",
    "from netket.utils.types import NNInitFunc\n",
    "from netket import nn as nknn\n",
    "default_kernel_init = normal(stddev=0.01)\n",
    "from tqdm import tqdm\n",
    "import datetime\n",
    "import matplotlib.pyplot as plt\n",
    "from tqdm import trange\n",
    "import time\n",
    "from sklearn.decomposition import PCA, KernelPCA\n",
    "from PIL import Image \n",
    "import os\n"
   ]
  },
  {
   "cell_type": "code",
   "execution_count": null,
   "metadata": {},
   "outputs": [],
   "source": []
  }
 ],
 "metadata": {
  "kernelspec": {
   "display_name": "nqsrl",
   "language": "python",
   "name": "python3"
  },
  "language_info": {
   "name": "python",
   "version": "3.12.3"
  }
 },
 "nbformat": 4,
 "nbformat_minor": 2
}
